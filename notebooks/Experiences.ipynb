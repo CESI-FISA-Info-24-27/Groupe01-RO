{
 "cells": [
  {
   "cell_type": "markdown",
   "id": "feddac2e",
   "metadata": {},
   "source": [
    "### Chargement d'un graphe depuis un fichier"
   ]
  },
  {
   "cell_type": "code",
   "execution_count": 1,
   "id": "d8afd15e",
   "metadata": {},
   "outputs": [],
   "source": [
    "# Ajouter le chemin vers le dossier src\n",
    "import sys\n",
    "import os\n",
    "sys.path.append(os.path.abspath(\"../src\"))\n",
    "\n",
    "# Tous les imports nécessaires\n",
    "from dotenv import load_dotenv\n",
    "import random\n",
    "from graph import Graph\n",
    "\n",
    "# Charger les variables d'environnement\n",
    "load_dotenv()\n",
    "\n",
    "# Récupérer les chemins depuis le fichier .env\n",
    "geonames_path = os.getenv(\"GEONAMES_PATH\")\n",
    "shapefile_path = os.getenv(\"SHAPEFILE_PATH\")\n",
    "output_path = os.getenv(\"OUTPUT_PATH\")\n",
    "serialized_graph_path = os.getenv(\"SERIALIZE_GRAPH_PATH\")"
   ]
  },
  {
   "cell_type": "code",
   "execution_count": 2,
   "id": "fae7e3af",
   "metadata": {},
   "outputs": [
    {
     "name": "stdout",
     "output_type": "stream",
     "text": [
      "Graph deserialized from ../data/datasets/size_200/graph_size200_density0.01.pkl\n",
      "Graphe chargé avec succès.\n"
     ]
    }
   ],
   "source": [
    "graph_path = \"../data/datasets/size_200/graph_size200_density0.01.pkl\"\n",
    "\n",
    "# Charger le graphe\n",
    "try:\n",
    "    graph = Graph.load(graph_path)\n",
    "    print(\"Graphe chargé avec succès.\")\n",
    "except FileNotFoundError:\n",
    "    print(f\"Le fichier {graph_path} est introuvable.\")\n",
    "except Exception as e:\n",
    "    print(f\"Erreur lors du chargement du graphe : {e}\")"
   ]
  },
  {
   "cell_type": "markdown",
   "id": "18608a67",
   "metadata": {},
   "source": [
    "### Enregistrement d'un graphe en .svg"
   ]
  },
  {
   "cell_type": "code",
   "execution_count": null,
   "id": "c25c3cc4",
   "metadata": {},
   "outputs": [
    {
     "name": "stdout",
     "output_type": "stream",
     "text": [
      "Graphe enregistré avec succès au format SVG : ../data/results/graph_5027.svg\n"
     ]
    }
   ],
   "source": [
    "savePath = f\"../data/results/graph_{random.randint(1, 9999)}.svg\"\n",
    "\n",
    "try:\n",
    "    graph.save_graph_svg(savePath)\n",
    "    print(f\"Graphe enregistré avec succès au format SVG : {savePath}\")\n",
    "except Exception as e:\n",
    "    print(f\"Erreur lors de l'enregistrement du graphe en SVG : {e}\")"
   ]
  }
 ],
 "metadata": {
  "kernelspec": {
   "display_name": ".venv",
   "language": "python",
   "name": "python3"
  },
  "language_info": {
   "codemirror_mode": {
    "name": "ipython",
    "version": 3
   },
   "file_extension": ".py",
   "mimetype": "text/x-python",
   "name": "python",
   "nbconvert_exporter": "python",
   "pygments_lexer": "ipython3",
   "version": "3.13.2"
  }
 },
 "nbformat": 4,
 "nbformat_minor": 5
}
