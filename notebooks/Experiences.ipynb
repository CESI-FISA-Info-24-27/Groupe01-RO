{
 "cells": [
  {
   "cell_type": "code",
   "execution_count": null,
   "id": "fae7e3af",
   "metadata": {},
   "outputs": [
    {
     "ename": "",
     "evalue": "",
     "output_type": "error",
     "traceback": [
      "\u001b[1;31mÉchec du démarrage du Kernel '.venv (Python 3.13.2)'. \n",
      "\u001b[1;31mVoir Jupyter <a href='command:jupyter.viewOutput'>log</a> pour plus de détails. WebSocket is not defined"
     ]
    }
   ],
   "source": [
    "import sys\n",
    "import os\n",
    "\n",
    "notebook_dir = os.path.dirname(os.path.abspath(\"__file__\"))  # Répertoire du notebook\n",
    "project_root = os.path.abspath(os.path.join(notebook_dir, \"..\"))  # Répertoire parent contenant \"src\"\n",
    "sys.path.append(project_root)\n",
    "\n",
    "# Importer les modules\n",
    "from src import Graph"
   ]
  }
 ],
 "metadata": {
  "kernelspec": {
   "display_name": ".venv",
   "language": "python",
   "name": "python3"
  },
  "language_info": {
   "codemirror_mode": {
    "name": "ipython",
    "version": 3
   },
   "file_extension": ".py",
   "mimetype": "text/x-python",
   "name": "python",
   "nbconvert_exporter": "python",
   "pygments_lexer": "ipython3",
   "version": "3.13.2"
  }
 },
 "nbformat": 4,
 "nbformat_minor": 5
}
