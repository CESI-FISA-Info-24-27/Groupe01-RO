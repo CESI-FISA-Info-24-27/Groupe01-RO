{
 "cells": [
  {
   "cell_type": "code",
   "execution_count": 13,
   "id": "fae7e3af",
   "metadata": {},
   "outputs": [],
   "source": [
    "import sys\n",
    "import os\n",
    "\n",
    "notebook_dir = os.path.dirname(os.path.abspath(\"__file__\"))  # Répertoire du notebook\n",
    "project_root = os.path.abspath(os.path.join(notebook_dir, \"..\"))  # Répertoire parent contenant \"src\"\n",
    "sys.path.append(project_root)\n",
    "\n",
    "# Importer les modules\n",
    "from src import Graph, load_graph_from_osm, generate_random_graph"
   ]
  },
  {
   "cell_type": "code",
   "execution_count": 16,
   "id": "5fc8e8d3",
   "metadata": {},
   "outputs": [
    {
     "ename": "AttributeError",
     "evalue": "'Graph' object has no attribute 'draw_country_contours'",
     "output_type": "error",
     "traceback": [
      "\u001b[31m---------------------------------------------------------------------------\u001b[39m",
      "\u001b[31mAttributeError\u001b[39m                            Traceback (most recent call last)",
      "\u001b[36mCell\u001b[39m\u001b[36m \u001b[39m\u001b[32mIn[16]\u001b[39m\u001b[32m, line 3\u001b[39m\n\u001b[32m      1\u001b[39m g = Graph()\n\u001b[32m----> \u001b[39m\u001b[32m3\u001b[39m \u001b[43mg\u001b[49m\u001b[43m.\u001b[49m\u001b[43mdraw_country_contours\u001b[49m(\u001b[33m\"\u001b[39m\u001b[33mFrance\u001b[39m\u001b[33m\"\u001b[39m)\n",
      "\u001b[31mAttributeError\u001b[39m: 'Graph' object has no attribute 'draw_country_contours'"
     ]
    }
   ],
   "source": [
    "g = Graph()\n",
    "\n",
    "g.draw_country_contours(\"France\")"
   ]
  },
  {
   "cell_type": "code",
   "execution_count": null,
   "id": "aaaaaf6e",
   "metadata": {},
   "outputs": [],
   "source": []
  },
  {
   "cell_type": "code",
   "execution_count": null,
   "id": "9dc22899",
   "metadata": {},
   "outputs": [],
   "source": []
  }
 ],
 "metadata": {
  "kernelspec": {
   "display_name": ".venv",
   "language": "python",
   "name": "python3"
  },
  "language_info": {
   "codemirror_mode": {
    "name": "ipython",
    "version": 3
   },
   "file_extension": ".py",
   "mimetype": "text/x-python",
   "name": "python",
   "nbconvert_exporter": "python",
   "pygments_lexer": "ipython3",
   "version": "3.13.2"
  }
 },
 "nbformat": 4,
 "nbformat_minor": 5
}
