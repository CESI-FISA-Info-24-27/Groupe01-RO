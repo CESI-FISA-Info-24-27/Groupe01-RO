{
 "cells": [
  {
   "cell_type": "markdown",
   "id": "3fb63b85",
   "metadata": {},
   "source": [
    "# 📌 Résumé du projet\n",
    "Dans le cadre de l’appel à manifestation d’intérêt de l’ADEME, notre équipe CesiCDP développe une solution intelligente visant à optimiser les tournées de livraison de biens ou services dans un environnement urbain complexe. L’objectif est de réduire les déplacements et la consommation énergétique tout en prenant en compte des contraintes réalistes et dynamiques du terrain : routes fermées, ralenties, ou évoluant dans le temps.\n",
    "\n",
    "Nous modélisons ce problème sous forme d’un graphe pondéré représentant un réseau routier. Notre approche repose sur une méthode approchée, capable de s’adapter à des situations dynamiques et incomplètes, et d’obtenir de bonnes solutions rapidement sans garantie d’optimalité."
   ]
  },
  {
   "cell_type": "markdown",
   "id": "0ee95471",
   "metadata": {},
   "source": [
    "# 🧭 Introduction\n",
    "Dans ce notebook, nous analysons et testons l'efficacité de notre algorithme de Recuit Simulé (Simulated Annealing) appliqué à l'optimisation des tournées de livraison.\n",
    "\n",
    "L'objectif est de :\n",
    "- Évaluer les performances de l'algorithme en termes de qualité des solutions et de temps d'exécution.\n",
    "- Étudier la complexité algorithmique et spatiale.\n",
    "- Comparer les résultats obtenus avec d'autres approches."
   ]
  },
  {
   "cell_type": "markdown",
   "id": "6a6fbe50",
   "metadata": {},
   "source": [
    "# ⚠️ Contraintes\n",
    "Et les contraintes sont : \n",
    "- Routes dynamiques ou perturbations : Simuler des changements dynamiques dans les coûts ou la disponibilité des routes pendant la résolution.\n",
    "- Utilisation de plusieurs véhicules: Il peut y avoir plusieurs sous-tournées plutôt qu'une seule grande.\n",
    "- Coût ou restriction de passage sur certaines arêtes : Certaines routes peuvent être plus coûteuses ou interdites (par exemple, travaux ou routes bloquées).\n",
    "- Ratio d'embouteillage moyen : Les données de Bison Futé sont utilisées pour calculer un ratio d'embouteillage moyen en fonction de l'heure.\n",
    "- Capacités du véhicule : Chaque véhicule a une capacité limite pour transporter des marchandises ou des passagers.\n"
   ]
  },
  {
   "cell_type": "markdown",
   "id": "2e03db0b",
   "metadata": {},
   "source": [
    "# 🧱 Structure du graphe\n",
    "Chaque ville est un nœud, chaque route une arête pondérée. Le graphe peut être enrichi par des données géographiques.\n",
    "```python\n",
    "from graph import Graph\n",
    "graph = Graph.load('./data/datasets/size_200/graph_size200_density0.01.pkl')\n",
    "graph.plot()\n",
    "```\n"
   ]
  },
  {
   "cell_type": "markdown",
   "id": "4778a74c",
   "metadata": {},
   "source": [
    "# 🔄 Pseudo-code de l'algorithme de Recuit Simulé\n",
    "FONCTION SimulatedAnnealing(graph, initial_temp, min_temp, cooling_rate, max_iterations, num_vehicles):\n",
    "Entrée :\n",
    "    - graph : graphe contenant les nœuds et arêtes pondérées\n",
    "    - initial_temp : température initiale\n",
    "    - min_temp : température minimale\n",
    "    - cooling_rate ∈ (0,1) : facteur de refroidissement\n",
    "    - max_iterations : nombre maximal d’itérations à température constante\n",
    "    - num_vehicles : nombre de véhicules disponibles\n",
    "\n",
    "Fonctions :\n",
    "    - initialize_solution(nodes, start_node, num_vehicles, graph) :\n",
    "        génère une solution initiale valide répartie sur plusieurs véhicules\n",
    "    - compute_total_cost(graph, solution) :\n",
    "        retourne le coût total de la solution (somme des distances pour tous les véhicules)\n",
    "    - generate_neighbor_multi_vehicle(graph, solution) :\n",
    "        génère une solution voisine (modification locale d’un ou plusieurs trajets)\n",
    "    - validate_solution(graph, solution) :\n",
    "        vérifie que la solution est valide (tous les sommets sont visités une fois, chemins valides)\n",
    "    - save_graph_png(path, show_labels, solution) :\n",
    "        enregistre une visualisation graphique de la solution actuelle\n",
    "\n",
    "Algorithme :\n",
    "\n",
    "Début :\n",
    "\n",
    "    temps_début ← temps_actuel                                     // début du chronomètre\n",
    "    T ← initial_temp                           // température initiale\n",
    "\n",
    "    nodes ← liste des nœuds du graphe\n",
    "    start_node ← nœud de départ aléatoire\n",
    "    retirer start_node de nodes\n",
    "\n",
    "    current_solution ← initialize_solution(nodes, start_node, num_vehicles, graph)\n",
    "    best_solution ← copie de current_solution\n",
    "    current_cost ← compute_total_cost(graph, current_solution)\n",
    "    best_cost ← current_cost\n",
    "\n",
    "    Afficher \"Initial solution cost\"\n",
    "\n",
    "    Pour chaque véhicule dans best_solution :\n",
    "        enregistrer le chemin dans le graphe\n",
    "\n",
    "    number_iterations ← 0\n",
    "    number_saves ← 0\n",
    "\n",
    "    Tant que T > min_temp :\n",
    "\n",
    "        Pour i de 1 à max_iterations :\n",
    "            neighbor ← generate_neighbor_multi_vehicle(graph, current_solution)\n",
    "            cost_neighbor ← compute_total_cost(graph, neighbor)\n",
    "            Δ ← cost_neighbor - current_cost\n",
    "\n",
    "            Si Δ < 0  :\n",
    "                //Amélioration → accepter directement\n",
    "                current_solution ← neighbor\n",
    "                current_cost ← cost_neighbor\n",
    "\n",
    "                Si cost_neighbor < best_cost :\n",
    "                    best_solution ← copie de neighbor\n",
    "                    best_cost ← cost_neighbor\n",
    "                    Pour chaque véhicule :\n",
    "                        enregistrer le chemin dans le graphe\n",
    "            Sinon :\n",
    "                //Moins bon → accepter avec probabilité exp(-Δ / T)\n",
    "                p ← exp(-Δ / T)\n",
    "                Si random(0,1) < p :\n",
    "                    current_solution ← neighbor\n",
    "                    current_cost ← cost_neighbor\n",
    "\n",
    "            Si number_iterations mod 500 = 0 :\n",
    "                enregistrer la solution actuelle en image\n",
    "                incrémenter number_saves\n",
    "\n",
    "            incrémenter number_iterations\n",
    "\n",
    "        Afficher T, current_cost, best_cost\n",
    "        T ← T × cooling_rate\n",
    "\n",
    "    Répéter 10 fois :\n",
    "        enregistrer best_solution pour figer dans l’animation finale\n",
    "\n",
    "    Si validate_solution(graph, best_solution) = Faux :\n",
    "        Lever une erreur : solution invalide\n",
    "    \n",
    "    temps_écoulé = temps_actuel - temps_début\n",
    "\n",
    "    Afficher \"Final solution cost\"\n",
    "    Afficher \"Elapsed time\"\n",
    "\n",
    "    Retourner best_solution, temps_écoulé\n",
    "![Flowchart](flowchart_simulated_annealing.svg)\n"
   ]
  },
  {
   "cell_type": "markdown",
   "id": "3eb1b9b2",
   "metadata": {},
   "source": [
    "# 🧮 Analyse de la complexité spatiale\n",
    "- Espace requis : O(n + m + k.n) où :\n",
    "  - n : nombre de villes\n",
    "  - m : nombre d'arêtes\n",
    "  - k : nombre de véhicules\n",
    "\n",
    "Dans notre cas, la classe personnalisée \"Graph\" stocke le graph en lui même grâce à Networkx. Ainsi qu'un dictionnaire qui prend pour clé l'id du véhicule et en valeur le chemin qu'il emprunte.\n",
    "\n",
    "Ainsi, le stockage du graph en lui même prend une taille de O(n + m) car il est stocké dans un dictionnaire avec pour clé les sommets et pour valeurs un deuxième dictionnaire, qui lui stock en clé un sommet auquel le premier sommet est lié (créant de ce fait une arrête) et en valeur un dernier dictionnaire qui stock les différents attributs de chaque arrêtes tel que le poids de ces dernières.\n",
    "\n",
    "Dans le pire des cas on a donc besoins de stocker n sommet, et m arrêtes.\n",
    "\n",
    "En ce qui concerne les véhicules et leur trajet, cela demande une taille de O(k.n) car au pire des cas chaque véhicule passera par les n sommets. \n",
    "Ce faisant nous aurions k trajets de n sommets\n",
    "\n",
    "Ci-dessous un exemple de stockage d'un graph en utilisant Networkx : "
   ]
  },
  {
   "cell_type": "code",
   "execution_count": 15,
   "id": "7739227d",
   "metadata": {},
   "outputs": [
    {
     "data": {
      "text/plain": [
       "{'A': {'B': {'weight': 5}, 'C': {'weight': 3}},\n",
       " 'B': {'A': {'weight': 5}, 'D': {'weight': 2}},\n",
       " 'C': {'A': {'weight': 3}},\n",
       " 'D': {'B': {'weight': 2}}}"
      ]
     },
     "execution_count": 15,
     "metadata": {},
     "output_type": "execute_result"
    }
   ],
   "source": [
    "{\n",
    "    'A': {                      #Clé = Sommet : Valeur = Dictionnaire des arrêtes\n",
    "        'B': {'weight': 5},     #Clé = Sommet à la fin de l'arrête : Valeur = Dictionnaire des attributs de l'arrêtes\n",
    "        'C': {'weight': 3}\n",
    "    },\n",
    "    'B': {\n",
    "        'A': {'weight': 5},\n",
    "        'D': {'weight': 2}\n",
    "    },\n",
    "    'C': {\n",
    "        'A': {'weight': 3}\n",
    "    },\n",
    "    'D': {\n",
    "        'B': {'weight': 2}\n",
    "    }\n",
    "}"
   ]
  },
  {
   "cell_type": "markdown",
   "id": "f004761f",
   "metadata": {},
   "source": [
    "Ci-dessous un graph montrant l'utilisation réel de mémoire pour des graphs de tailles et densitées variables :\n",
    "\n",
    "![Graph de la complexité spatiale](../data/test/spatial_complexity.png)\n",
    "\n",
    "On voit avec le graphique ci dessous que le nombre en sommet influe peux la taille prise par les graphiques créer pour des densitées faible, mais plus la densité augmente et plus ces derniers ont un impact. \n",
    "\n",
    "Étant donnée que la densité donne une proportion de liaison entre tous les sommets, il n'est donc pas surprenant de voir qu'avec une proportion de liaisons plus grande entre les sommets, le stockage du graph dans son ensemble prend beaucoup plus de place, surtout avec un nombre important de sommet.\n",
    "\n",
    "C'est ce qui explique pourquoi lorsque l'on est entre 100 et 300 sommets, les lignes sont plutôt proches, du fait que l'influence du pourcentage est moindre. \n",
    "Là où à partir des 400-500 sommets et ce de manière de plus en plus notable en augmentant le nombre des sommets, les lignes se sépare de plus en plus."
   ]
  },
  {
   "cell_type": "code",
   "execution_count": 2,
   "id": "aafe721f",
   "metadata": {},
   "outputs": [
    {
     "name": "stdout",
     "output_type": "stream",
     "text": [
      "Starting space complexity test\n",
      "Generating graph for n vertices=100, density=0.001\n"
     ]
    },
    {
     "ename": "FileNotFoundError",
     "evalue": "[Errno 2] No such file or directory: './data/FR/cities_of_france.txt'",
     "output_type": "error",
     "traceback": [
      "\u001b[31m---------------------------------------------------------------------------\u001b[39m",
      "\u001b[31mFileNotFoundError\u001b[39m                         Traceback (most recent call last)",
      "\u001b[36mCell\u001b[39m\u001b[36m \u001b[39m\u001b[32mIn[2]\u001b[39m\u001b[32m, line 74\u001b[39m\n\u001b[32m     70\u001b[39m     \u001b[38;5;28mprint\u001b[39m(\u001b[33mf\u001b[39m\u001b[33m\"\u001b[39m\u001b[33mPlot saved to \u001b[39m\u001b[38;5;132;01m{\u001b[39;00mplot_path\u001b[38;5;132;01m}\u001b[39;00m\u001b[33m\"\u001b[39m)\n\u001b[32m     73\u001b[39m \u001b[38;5;28mprint\u001b[39m(\u001b[33m\"\u001b[39m\u001b[33mStarting space complexity test\u001b[39m\u001b[33m\"\u001b[39m)\n\u001b[32m---> \u001b[39m\u001b[32m74\u001b[39m \u001b[43mtest_spatial_complexity\u001b[49m\u001b[43m(\u001b[49m\u001b[43m)\u001b[49m\n",
      "\u001b[36mCell\u001b[39m\u001b[36m \u001b[39m\u001b[32mIn[2]\u001b[39m\u001b[32m, line 28\u001b[39m, in \u001b[36mtest_spatial_complexity\u001b[39m\u001b[34m()\u001b[39m\n\u001b[32m     25\u001b[39m \u001b[38;5;28mprint\u001b[39m(\u001b[33mf\u001b[39m\u001b[33m\"\u001b[39m\u001b[33mGenerating graph for n vertices=\u001b[39m\u001b[38;5;132;01m{\u001b[39;00mn\u001b[38;5;132;01m}\u001b[39;00m\u001b[33m, density=\u001b[39m\u001b[38;5;132;01m{\u001b[39;00md\u001b[38;5;132;01m}\u001b[39;00m\u001b[33m\"\u001b[39m)\n\u001b[32m     27\u001b[39m tracemalloc.start()\n\u001b[32m---> \u001b[39m\u001b[32m28\u001b[39m \u001b[43mg\u001b[49m\u001b[43m.\u001b[49m\u001b[43mgenerate_geo_graph\u001b[49m\u001b[43m(\u001b[49m\u001b[43mn\u001b[49m\u001b[43m=\u001b[49m\u001b[43mn\u001b[49m\u001b[43m,\u001b[49m\u001b[43m \u001b[49m\u001b[43mdensity\u001b[49m\u001b[43m=\u001b[49m\u001b[43md\u001b[49m\u001b[43m)\u001b[49m\n\u001b[32m     29\u001b[39m current, peak = tracemalloc.get_traced_memory()\n\u001b[32m     30\u001b[39m tracemalloc.stop()\n",
      "\u001b[36mFile \u001b[39m\u001b[32m~\\Desktop\\CESI\\3ème_année\\RO\\Groupe01-RO\\src\\graph.py:465\u001b[39m, in \u001b[36mGraph.generate_geo_graph\u001b[39m\u001b[34m(self, n, density)\u001b[39m\n\u001b[32m    440\u001b[39m \u001b[38;5;28;01mdef\u001b[39;00m\u001b[38;5;250m \u001b[39m\u001b[34mgenerate_geo_graph\u001b[39m(\u001b[38;5;28mself\u001b[39m, n, density=\u001b[32m0.1\u001b[39m):\n\u001b[32m    441\u001b[39m \u001b[38;5;250m    \u001b[39m\u001b[33;03m\"\"\"\u001b[39;00m\n\u001b[32m    442\u001b[39m \u001b[33;03m    Generates a geographical graph based on a list of cities with their coordinates.\u001b[39;00m\n\u001b[32m    443\u001b[39m \u001b[33;03m    This method reads a file containing geographical data, filters for populated places,\u001b[39;00m\n\u001b[32m   (...)\u001b[39m\u001b[32m    463\u001b[39m \u001b[33;03m        - Additional edges are added randomly to achieve the desired density.\u001b[39;00m\n\u001b[32m    464\u001b[39m \u001b[33;03m    \"\"\"\u001b[39;00m\n\u001b[32m--> \u001b[39m\u001b[32m465\u001b[39m     df = \u001b[43mpd\u001b[49m\u001b[43m.\u001b[49m\u001b[43mread_csv\u001b[49m\u001b[43m(\u001b[49m\n\u001b[32m    466\u001b[39m \u001b[43m        \u001b[49m\u001b[38;5;66;43;03m#geonames_path,\u001b[39;49;00m\n\u001b[32m    467\u001b[39m \u001b[43m        \u001b[49m\u001b[33;43m\"\u001b[39;49m\u001b[33;43m./data/FR/cities_of_france.txt\u001b[39;49m\u001b[33;43m\"\u001b[39;49m\u001b[43m,\u001b[49m\u001b[43m \u001b[49m\n\u001b[32m    468\u001b[39m \u001b[43m        \u001b[49m\u001b[43msep\u001b[49m\u001b[43m=\u001b[49m\u001b[33;43m'\u001b[39;49m\u001b[38;5;130;43;01m\\t\u001b[39;49;00m\u001b[33;43m'\u001b[39;49m\u001b[43m,\u001b[49m\u001b[43m \u001b[49m\n\u001b[32m    469\u001b[39m \u001b[43m        \u001b[49m\u001b[43mheader\u001b[49m\u001b[43m=\u001b[49m\u001b[38;5;28;43;01mNone\u001b[39;49;00m\u001b[43m,\u001b[49m\n\u001b[32m    470\u001b[39m \u001b[43m        \u001b[49m\u001b[43mnames\u001b[49m\u001b[43m=\u001b[49m\u001b[43m[\u001b[49m\u001b[33;43m\"\u001b[39;49m\u001b[33;43mgeonameid\u001b[39;49m\u001b[33;43m\"\u001b[39;49m\u001b[43m,\u001b[49m\u001b[43m \u001b[49m\u001b[33;43m\"\u001b[39;49m\u001b[33;43mname\u001b[39;49m\u001b[33;43m\"\u001b[39;49m\u001b[43m,\u001b[49m\u001b[43m \u001b[49m\u001b[33;43m\"\u001b[39;49m\u001b[33;43masciiname\u001b[39;49m\u001b[33;43m\"\u001b[39;49m\u001b[43m,\u001b[49m\u001b[43m \u001b[49m\u001b[33;43m\"\u001b[39;49m\u001b[33;43malternatenames\u001b[39;49m\u001b[33;43m\"\u001b[39;49m\u001b[43m,\u001b[49m\u001b[43m \u001b[49m\u001b[33;43m\"\u001b[39;49m\u001b[33;43mlatitude\u001b[39;49m\u001b[33;43m\"\u001b[39;49m\u001b[43m,\u001b[49m\u001b[43m \u001b[49m\u001b[33;43m\"\u001b[39;49m\u001b[33;43mlongitude\u001b[39;49m\u001b[33;43m\"\u001b[39;49m\u001b[43m,\u001b[49m\u001b[43m \u001b[49m\n\u001b[32m    471\u001b[39m \u001b[43m            \u001b[49m\u001b[33;43m\"\u001b[39;49m\u001b[33;43mfeature_class\u001b[39;49m\u001b[33;43m\"\u001b[39;49m\u001b[43m,\u001b[49m\u001b[43m \u001b[49m\u001b[33;43m\"\u001b[39;49m\u001b[33;43mfeature_code\u001b[39;49m\u001b[33;43m\"\u001b[39;49m\u001b[43m,\u001b[49m\u001b[43m \u001b[49m\u001b[33;43m\"\u001b[39;49m\u001b[33;43mcountry_code\u001b[39;49m\u001b[33;43m\"\u001b[39;49m\u001b[43m,\u001b[49m\u001b[43m \u001b[49m\u001b[33;43m\"\u001b[39;49m\u001b[33;43mcc2\u001b[39;49m\u001b[33;43m\"\u001b[39;49m\u001b[43m,\u001b[49m\u001b[43m \u001b[49m\u001b[33;43m\"\u001b[39;49m\u001b[33;43madmin1_code\u001b[39;49m\u001b[33;43m\"\u001b[39;49m\u001b[43m,\u001b[49m\u001b[43m \u001b[49m\n\u001b[32m    472\u001b[39m \u001b[43m            \u001b[49m\u001b[33;43m\"\u001b[39;49m\u001b[33;43madmin2_code\u001b[39;49m\u001b[33;43m\"\u001b[39;49m\u001b[43m,\u001b[49m\u001b[43m \u001b[49m\u001b[33;43m\"\u001b[39;49m\u001b[33;43madmin3_code\u001b[39;49m\u001b[33;43m\"\u001b[39;49m\u001b[43m,\u001b[49m\u001b[43m \u001b[49m\u001b[33;43m\"\u001b[39;49m\u001b[33;43madmin4_code\u001b[39;49m\u001b[33;43m\"\u001b[39;49m\u001b[43m,\u001b[49m\u001b[43m \u001b[49m\u001b[33;43m\"\u001b[39;49m\u001b[33;43mpopulation\u001b[39;49m\u001b[33;43m\"\u001b[39;49m\u001b[43m,\u001b[49m\u001b[43m \u001b[49m\u001b[33;43m\"\u001b[39;49m\u001b[33;43melevation\u001b[39;49m\u001b[33;43m\"\u001b[39;49m\u001b[43m,\u001b[49m\u001b[43m \u001b[49m\n\u001b[32m    473\u001b[39m \u001b[43m            \u001b[49m\u001b[33;43m\"\u001b[39;49m\u001b[33;43mdem\u001b[39;49m\u001b[33;43m\"\u001b[39;49m\u001b[43m,\u001b[49m\u001b[43m \u001b[49m\u001b[33;43m\"\u001b[39;49m\u001b[33;43mtimezone\u001b[39;49m\u001b[33;43m\"\u001b[39;49m\u001b[43m,\u001b[49m\u001b[43m \u001b[49m\u001b[33;43m\"\u001b[39;49m\u001b[33;43mmodification_date\u001b[39;49m\u001b[33;43m\"\u001b[39;49m\u001b[43m]\u001b[49m\n\u001b[32m    474\u001b[39m \u001b[43m    \u001b[49m\u001b[43m)\u001b[49m\n\u001b[32m    476\u001b[39m     \u001b[38;5;66;03m# Filter cities with valid coordinates\u001b[39;00m\n\u001b[32m    477\u001b[39m     df = df[df[\u001b[33m'\u001b[39m\u001b[33mfeature_class\u001b[39m\u001b[33m'\u001b[39m] == \u001b[33m'\u001b[39m\u001b[33mP\u001b[39m\u001b[33m'\u001b[39m]  \u001b[38;5;66;03m# P = populated place\u001b[39;00m\n",
      "\u001b[36mFile \u001b[39m\u001b[32mc:\\Users\\tryst\\Desktop\\CESI\\3ème_année\\RO\\Groupe01-RO\\.venv\\Lib\\site-packages\\pandas\\io\\parsers\\readers.py:1026\u001b[39m, in \u001b[36mread_csv\u001b[39m\u001b[34m(filepath_or_buffer, sep, delimiter, header, names, index_col, usecols, dtype, engine, converters, true_values, false_values, skipinitialspace, skiprows, skipfooter, nrows, na_values, keep_default_na, na_filter, verbose, skip_blank_lines, parse_dates, infer_datetime_format, keep_date_col, date_parser, date_format, dayfirst, cache_dates, iterator, chunksize, compression, thousands, decimal, lineterminator, quotechar, quoting, doublequote, escapechar, comment, encoding, encoding_errors, dialect, on_bad_lines, delim_whitespace, low_memory, memory_map, float_precision, storage_options, dtype_backend)\u001b[39m\n\u001b[32m   1013\u001b[39m kwds_defaults = _refine_defaults_read(\n\u001b[32m   1014\u001b[39m     dialect,\n\u001b[32m   1015\u001b[39m     delimiter,\n\u001b[32m   (...)\u001b[39m\u001b[32m   1022\u001b[39m     dtype_backend=dtype_backend,\n\u001b[32m   1023\u001b[39m )\n\u001b[32m   1024\u001b[39m kwds.update(kwds_defaults)\n\u001b[32m-> \u001b[39m\u001b[32m1026\u001b[39m \u001b[38;5;28;01mreturn\u001b[39;00m \u001b[43m_read\u001b[49m\u001b[43m(\u001b[49m\u001b[43mfilepath_or_buffer\u001b[49m\u001b[43m,\u001b[49m\u001b[43m \u001b[49m\u001b[43mkwds\u001b[49m\u001b[43m)\u001b[49m\n",
      "\u001b[36mFile \u001b[39m\u001b[32mc:\\Users\\tryst\\Desktop\\CESI\\3ème_année\\RO\\Groupe01-RO\\.venv\\Lib\\site-packages\\pandas\\io\\parsers\\readers.py:620\u001b[39m, in \u001b[36m_read\u001b[39m\u001b[34m(filepath_or_buffer, kwds)\u001b[39m\n\u001b[32m    617\u001b[39m _validate_names(kwds.get(\u001b[33m\"\u001b[39m\u001b[33mnames\u001b[39m\u001b[33m\"\u001b[39m, \u001b[38;5;28;01mNone\u001b[39;00m))\n\u001b[32m    619\u001b[39m \u001b[38;5;66;03m# Create the parser.\u001b[39;00m\n\u001b[32m--> \u001b[39m\u001b[32m620\u001b[39m parser = \u001b[43mTextFileReader\u001b[49m\u001b[43m(\u001b[49m\u001b[43mfilepath_or_buffer\u001b[49m\u001b[43m,\u001b[49m\u001b[43m \u001b[49m\u001b[43m*\u001b[49m\u001b[43m*\u001b[49m\u001b[43mkwds\u001b[49m\u001b[43m)\u001b[49m\n\u001b[32m    622\u001b[39m \u001b[38;5;28;01mif\u001b[39;00m chunksize \u001b[38;5;129;01mor\u001b[39;00m iterator:\n\u001b[32m    623\u001b[39m     \u001b[38;5;28;01mreturn\u001b[39;00m parser\n",
      "\u001b[36mFile \u001b[39m\u001b[32mc:\\Users\\tryst\\Desktop\\CESI\\3ème_année\\RO\\Groupe01-RO\\.venv\\Lib\\site-packages\\pandas\\io\\parsers\\readers.py:1620\u001b[39m, in \u001b[36mTextFileReader.__init__\u001b[39m\u001b[34m(self, f, engine, **kwds)\u001b[39m\n\u001b[32m   1617\u001b[39m     \u001b[38;5;28mself\u001b[39m.options[\u001b[33m\"\u001b[39m\u001b[33mhas_index_names\u001b[39m\u001b[33m\"\u001b[39m] = kwds[\u001b[33m\"\u001b[39m\u001b[33mhas_index_names\u001b[39m\u001b[33m\"\u001b[39m]\n\u001b[32m   1619\u001b[39m \u001b[38;5;28mself\u001b[39m.handles: IOHandles | \u001b[38;5;28;01mNone\u001b[39;00m = \u001b[38;5;28;01mNone\u001b[39;00m\n\u001b[32m-> \u001b[39m\u001b[32m1620\u001b[39m \u001b[38;5;28mself\u001b[39m._engine = \u001b[38;5;28;43mself\u001b[39;49m\u001b[43m.\u001b[49m\u001b[43m_make_engine\u001b[49m\u001b[43m(\u001b[49m\u001b[43mf\u001b[49m\u001b[43m,\u001b[49m\u001b[43m \u001b[49m\u001b[38;5;28;43mself\u001b[39;49m\u001b[43m.\u001b[49m\u001b[43mengine\u001b[49m\u001b[43m)\u001b[49m\n",
      "\u001b[36mFile \u001b[39m\u001b[32mc:\\Users\\tryst\\Desktop\\CESI\\3ème_année\\RO\\Groupe01-RO\\.venv\\Lib\\site-packages\\pandas\\io\\parsers\\readers.py:1880\u001b[39m, in \u001b[36mTextFileReader._make_engine\u001b[39m\u001b[34m(self, f, engine)\u001b[39m\n\u001b[32m   1878\u001b[39m     \u001b[38;5;28;01mif\u001b[39;00m \u001b[33m\"\u001b[39m\u001b[33mb\u001b[39m\u001b[33m\"\u001b[39m \u001b[38;5;129;01mnot\u001b[39;00m \u001b[38;5;129;01min\u001b[39;00m mode:\n\u001b[32m   1879\u001b[39m         mode += \u001b[33m\"\u001b[39m\u001b[33mb\u001b[39m\u001b[33m\"\u001b[39m\n\u001b[32m-> \u001b[39m\u001b[32m1880\u001b[39m \u001b[38;5;28mself\u001b[39m.handles = \u001b[43mget_handle\u001b[49m\u001b[43m(\u001b[49m\n\u001b[32m   1881\u001b[39m \u001b[43m    \u001b[49m\u001b[43mf\u001b[49m\u001b[43m,\u001b[49m\n\u001b[32m   1882\u001b[39m \u001b[43m    \u001b[49m\u001b[43mmode\u001b[49m\u001b[43m,\u001b[49m\n\u001b[32m   1883\u001b[39m \u001b[43m    \u001b[49m\u001b[43mencoding\u001b[49m\u001b[43m=\u001b[49m\u001b[38;5;28;43mself\u001b[39;49m\u001b[43m.\u001b[49m\u001b[43moptions\u001b[49m\u001b[43m.\u001b[49m\u001b[43mget\u001b[49m\u001b[43m(\u001b[49m\u001b[33;43m\"\u001b[39;49m\u001b[33;43mencoding\u001b[39;49m\u001b[33;43m\"\u001b[39;49m\u001b[43m,\u001b[49m\u001b[43m \u001b[49m\u001b[38;5;28;43;01mNone\u001b[39;49;00m\u001b[43m)\u001b[49m\u001b[43m,\u001b[49m\n\u001b[32m   1884\u001b[39m \u001b[43m    \u001b[49m\u001b[43mcompression\u001b[49m\u001b[43m=\u001b[49m\u001b[38;5;28;43mself\u001b[39;49m\u001b[43m.\u001b[49m\u001b[43moptions\u001b[49m\u001b[43m.\u001b[49m\u001b[43mget\u001b[49m\u001b[43m(\u001b[49m\u001b[33;43m\"\u001b[39;49m\u001b[33;43mcompression\u001b[39;49m\u001b[33;43m\"\u001b[39;49m\u001b[43m,\u001b[49m\u001b[43m \u001b[49m\u001b[38;5;28;43;01mNone\u001b[39;49;00m\u001b[43m)\u001b[49m\u001b[43m,\u001b[49m\n\u001b[32m   1885\u001b[39m \u001b[43m    \u001b[49m\u001b[43mmemory_map\u001b[49m\u001b[43m=\u001b[49m\u001b[38;5;28;43mself\u001b[39;49m\u001b[43m.\u001b[49m\u001b[43moptions\u001b[49m\u001b[43m.\u001b[49m\u001b[43mget\u001b[49m\u001b[43m(\u001b[49m\u001b[33;43m\"\u001b[39;49m\u001b[33;43mmemory_map\u001b[39;49m\u001b[33;43m\"\u001b[39;49m\u001b[43m,\u001b[49m\u001b[43m \u001b[49m\u001b[38;5;28;43;01mFalse\u001b[39;49;00m\u001b[43m)\u001b[49m\u001b[43m,\u001b[49m\n\u001b[32m   1886\u001b[39m \u001b[43m    \u001b[49m\u001b[43mis_text\u001b[49m\u001b[43m=\u001b[49m\u001b[43mis_text\u001b[49m\u001b[43m,\u001b[49m\n\u001b[32m   1887\u001b[39m \u001b[43m    \u001b[49m\u001b[43merrors\u001b[49m\u001b[43m=\u001b[49m\u001b[38;5;28;43mself\u001b[39;49m\u001b[43m.\u001b[49m\u001b[43moptions\u001b[49m\u001b[43m.\u001b[49m\u001b[43mget\u001b[49m\u001b[43m(\u001b[49m\u001b[33;43m\"\u001b[39;49m\u001b[33;43mencoding_errors\u001b[39;49m\u001b[33;43m\"\u001b[39;49m\u001b[43m,\u001b[49m\u001b[43m \u001b[49m\u001b[33;43m\"\u001b[39;49m\u001b[33;43mstrict\u001b[39;49m\u001b[33;43m\"\u001b[39;49m\u001b[43m)\u001b[49m\u001b[43m,\u001b[49m\n\u001b[32m   1888\u001b[39m \u001b[43m    \u001b[49m\u001b[43mstorage_options\u001b[49m\u001b[43m=\u001b[49m\u001b[38;5;28;43mself\u001b[39;49m\u001b[43m.\u001b[49m\u001b[43moptions\u001b[49m\u001b[43m.\u001b[49m\u001b[43mget\u001b[49m\u001b[43m(\u001b[49m\u001b[33;43m\"\u001b[39;49m\u001b[33;43mstorage_options\u001b[39;49m\u001b[33;43m\"\u001b[39;49m\u001b[43m,\u001b[49m\u001b[43m \u001b[49m\u001b[38;5;28;43;01mNone\u001b[39;49;00m\u001b[43m)\u001b[49m\u001b[43m,\u001b[49m\n\u001b[32m   1889\u001b[39m \u001b[43m\u001b[49m\u001b[43m)\u001b[49m\n\u001b[32m   1890\u001b[39m \u001b[38;5;28;01massert\u001b[39;00m \u001b[38;5;28mself\u001b[39m.handles \u001b[38;5;129;01mis\u001b[39;00m \u001b[38;5;129;01mnot\u001b[39;00m \u001b[38;5;28;01mNone\u001b[39;00m\n\u001b[32m   1891\u001b[39m f = \u001b[38;5;28mself\u001b[39m.handles.handle\n",
      "\u001b[36mFile \u001b[39m\u001b[32mc:\\Users\\tryst\\Desktop\\CESI\\3ème_année\\RO\\Groupe01-RO\\.venv\\Lib\\site-packages\\pandas\\io\\common.py:873\u001b[39m, in \u001b[36mget_handle\u001b[39m\u001b[34m(path_or_buf, mode, encoding, compression, memory_map, is_text, errors, storage_options)\u001b[39m\n\u001b[32m    868\u001b[39m \u001b[38;5;28;01melif\u001b[39;00m \u001b[38;5;28misinstance\u001b[39m(handle, \u001b[38;5;28mstr\u001b[39m):\n\u001b[32m    869\u001b[39m     \u001b[38;5;66;03m# Check whether the filename is to be opened in binary mode.\u001b[39;00m\n\u001b[32m    870\u001b[39m     \u001b[38;5;66;03m# Binary mode does not support 'encoding' and 'newline'.\u001b[39;00m\n\u001b[32m    871\u001b[39m     \u001b[38;5;28;01mif\u001b[39;00m ioargs.encoding \u001b[38;5;129;01mand\u001b[39;00m \u001b[33m\"\u001b[39m\u001b[33mb\u001b[39m\u001b[33m\"\u001b[39m \u001b[38;5;129;01mnot\u001b[39;00m \u001b[38;5;129;01min\u001b[39;00m ioargs.mode:\n\u001b[32m    872\u001b[39m         \u001b[38;5;66;03m# Encoding\u001b[39;00m\n\u001b[32m--> \u001b[39m\u001b[32m873\u001b[39m         handle = \u001b[38;5;28;43mopen\u001b[39;49m\u001b[43m(\u001b[49m\n\u001b[32m    874\u001b[39m \u001b[43m            \u001b[49m\u001b[43mhandle\u001b[49m\u001b[43m,\u001b[49m\n\u001b[32m    875\u001b[39m \u001b[43m            \u001b[49m\u001b[43mioargs\u001b[49m\u001b[43m.\u001b[49m\u001b[43mmode\u001b[49m\u001b[43m,\u001b[49m\n\u001b[32m    876\u001b[39m \u001b[43m            \u001b[49m\u001b[43mencoding\u001b[49m\u001b[43m=\u001b[49m\u001b[43mioargs\u001b[49m\u001b[43m.\u001b[49m\u001b[43mencoding\u001b[49m\u001b[43m,\u001b[49m\n\u001b[32m    877\u001b[39m \u001b[43m            \u001b[49m\u001b[43merrors\u001b[49m\u001b[43m=\u001b[49m\u001b[43merrors\u001b[49m\u001b[43m,\u001b[49m\n\u001b[32m    878\u001b[39m \u001b[43m            \u001b[49m\u001b[43mnewline\u001b[49m\u001b[43m=\u001b[49m\u001b[33;43m\"\u001b[39;49m\u001b[33;43m\"\u001b[39;49m\u001b[43m,\u001b[49m\n\u001b[32m    879\u001b[39m \u001b[43m        \u001b[49m\u001b[43m)\u001b[49m\n\u001b[32m    880\u001b[39m     \u001b[38;5;28;01melse\u001b[39;00m:\n\u001b[32m    881\u001b[39m         \u001b[38;5;66;03m# Binary mode\u001b[39;00m\n\u001b[32m    882\u001b[39m         handle = \u001b[38;5;28mopen\u001b[39m(handle, ioargs.mode)\n",
      "\u001b[31mFileNotFoundError\u001b[39m: [Errno 2] No such file or directory: './data/FR/cities_of_france.txt'"
     ]
    }
   ],
   "source": [
    "import sys\n",
    "from pathlib import Path\n",
    "import tracemalloc\n",
    "import pandas as pd\n",
    "import numpy as np\n",
    "from time import time\n",
    "import matplotlib.pyplot as plt\n",
    "import seaborn as sns\n",
    "\n",
    "notebooks_dir = Path().resolve()\n",
    "src_dir = notebooks_dir.parent / \"src\"\n",
    "sys.path.append(str(src_dir))\n",
    "\n",
    "from graph import Graph\n",
    "\n",
    "\n",
    "def test_spatial_complexity():\n",
    "    results = []\n",
    "    tailles = [i for i in range(100, 1000, 100)]\n",
    "    densites = [0.001, 0.01, 0.05, 0.1, 0.15, 0.20, 0.25, 0.3]\n",
    "\n",
    "    for n in tailles:\n",
    "        for d in densites:\n",
    "            g = Graph()\n",
    "            print(f\"Generating graph for n vertices={n}, density={d}\")\n",
    "\n",
    "            tracemalloc.start()\n",
    "            g.generate_geo_graph(n=n, density=d)\n",
    "            current, peak = tracemalloc.get_traced_memory()\n",
    "            tracemalloc.stop()\n",
    "\n",
    "            results.append({\n",
    "                'size': n,\n",
    "                'density': d,\n",
    "                'used_memory_MB': current / 1024**2,\n",
    "            })\n",
    "\n",
    "            print(\"Success\")\n",
    "\n",
    "    \n",
    "    results_df = pd.DataFrame(results)\n",
    "\n",
    "    # === Affichage console pour CI ===\n",
    "    print(\"\\n=== Résultats de la mesure de complexité spatiale ===\\n\")\n",
    "    print(results_df.to_string(index=False))\n",
    "\n",
    "    # Créer le dossier si nécessaire\n",
    "    output_dir = Path(__file__).resolve().parent.parent / \"data\" / \"test\"\n",
    "    output_dir.mkdir(parents=True, exist_ok=True)\n",
    "\n",
    "    # Créer le graphique\n",
    "    plt.figure(figsize=(10, 6))\n",
    "    sns.lineplot(\n",
    "        data=results_df,\n",
    "        x='size',\n",
    "        y='used_memory_MB',\n",
    "        hue='density',\n",
    "        marker='o',\n",
    "        palette='viridis'\n",
    "    )\n",
    "    plt.title(\"Memory used according to the graph size\")\n",
    "    plt.xlabel(\"Number of vertices (n)\")\n",
    "    plt.ylabel(\"Memory used (MB)\")\n",
    "    plt.grid(True)\n",
    "    plt.tight_layout()\n",
    "\n",
    "    # Enregistrer le fichier image\n",
    "    plot_path = output_dir / \"spatial_complexity.png\"\n",
    "    plt.savefig(plot_path)\n",
    "    print(f\"Plot saved to {plot_path}\")\n",
    "\n",
    "\n",
    "print(\"Starting space complexity test\")\n",
    "test_spatial_complexity()\n",
    "\n",
    "\n"
   ]
  },
  {
   "cell_type": "markdown",
   "id": "878fe40c",
   "metadata": {},
   "source": [
    "# ⚙️ Choix des paramètres\n",
    "Utiliser librairie octuna"
   ]
  },
  {
   "cell_type": "markdown",
   "id": "e3d81082",
   "metadata": {},
   "source": [
    "# 🧪 Test de performance\n",
    "Grâce à la librairie cProfile, nous pouvons tracer les performances de l'algorithme de manière précise, et la fonction time.perf_counter() elle nous permet de récupérer des informations sur le temps d'exécution de l'algorithme, tout ceci sur une nombre variable de sommet et de densité.\n",
    "\n",
    "Ainsi pour le temps on obtient le graph suivant : \n",
    "\n",
    "![Graph des tests de performances](../data/test/performance_profiling.png)\n",
    "\n",
    "\n",
    "On obtient les valeurs grâce à time.perf_counter() en début et en fin d'algorithme, faire la différences des deux appels donne une mesure précise du temps total d'exécution.\n",
    "\n",
    "En ce qui concerne les performances on obtient un fichier texte grâce à cProfile qui rassemble les données comme ci-dessous :   "
   ]
  },
  {
   "cell_type": "code",
   "execution_count": 4,
   "id": "aa8cd28a",
   "metadata": {},
   "outputs": [
    {
     "name": "stdout",
     "output_type": "stream",
     "text": [
      "\n",
      "# appels   temps propre (s)     /appel     temps cumulé (s)      /appel cumulé     fonction\n",
      "1          0.070                0.070      15.625                15.625            simulated_annealing\n",
      "27600      0.228                0.000      8.178                 0.000             generate_neighbor_multi_vehicle\n",
      "\n"
     ]
    }
   ],
   "source": [
    "profiling_output = \"\"\"\n",
    "# appels   temps propre (s)     /appel     temps cumulé (s)      /appel cumulé     fonction\n",
    "1          0.070                0.070      15.625                15.625            simulated_annealing\n",
    "27600      0.228                0.000      8.178                 0.000             generate_neighbor_multi_vehicle\n",
    "\"\"\"\n",
    "\n",
    "print(profiling_output)"
   ]
  },
  {
   "cell_type": "markdown",
   "id": "d3f36350",
   "metadata": {},
   "source": [
    "On retrouve alors le nombre de fois où la fonction est appelée, le temps pris par la fonction en elle même, le temps pris par appel de la fonction, le temps cumulé d'exécution de la fonction et enfin le temps cumulé par appel de la fonction. Tout cela suivi par le nom de la fonction en elle même pour que l'on sache quelle fonction est concernée. Ceci nous permet au final de traquer de manière précise ce qui se passe lors de l'exécution de l'algorithme."
   ]
  },
  {
   "cell_type": "markdown",
   "id": "62ae715d",
   "metadata": {},
   "source": [
    "# ⚖️ Comparaison avec d'autres algorithmes\n",
    "Comparaison avec une heuristique gloutonne sur les mêmes instances :\n",
    "```python\n",
    "from compare import compare_algorithms\n",
    "compare_algorithms(graph)\n",
    "```\n"
   ]
  },
  {
   "cell_type": "markdown",
   "id": "e15f531e",
   "metadata": {},
   "source": [
    "# 📽️ Rendu visuel avec GIF\n",
    "```python\n",
    "from visual import render_solution_gif\n",
    "render_solution_gif(best_solution, './animations/solution.gif')\n",
    "```\n",
    "![GIF](./animations/solution.gif)\n"
   ]
  },
  {
   "cell_type": "markdown",
   "id": "274fdb1e",
   "metadata": {},
   "source": [
    "# ✅ Conclusion\n",
    "- Le recuit simulé est efficace sur les graphes denses.\n",
    "- Robuste face aux perturbations.\n",
    "- Temps raisonnables et résultats compétitifs.\n",
    "- Possibilités d'amélioration avec des hybrides heuristiques.\n"
   ]
  }
 ],
 "metadata": {
  "kernelspec": {
   "display_name": ".venv",
   "language": "python",
   "name": "python3"
  },
  "language_info": {
   "codemirror_mode": {
    "name": "ipython",
    "version": 3
   },
   "file_extension": ".py",
   "mimetype": "text/x-python",
   "name": "python",
   "nbconvert_exporter": "python",
   "pygments_lexer": "ipython3",
   "version": "3.13.2"
  }
 },
 "nbformat": 4,
 "nbformat_minor": 5
}
