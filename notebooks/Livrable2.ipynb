{
 "cells": [
  {
   "cell_type": "markdown",
   "id": "3fb63b85",
   "metadata": {},
   "source": [
    "# 📌 Résumé du projet\n",
    "Dans le cadre de l’appel à manifestation d’intérêt de l’ADEME, notre équipe CesiCDP développe une solution intelligente visant à optimiser les tournées de livraison de biens ou services dans un environnement urbain complexe. L’objectif est de réduire les déplacements et la consommation énergétique tout en prenant en compte des contraintes réalistes et dynamiques du terrain : routes fermées, ralenties, ou évoluant dans le temps.\n",
    "\n",
    "Nous modélisons ce problème sous forme d’un graphe pondéré représentant un réseau routier. Notre approche repose sur une méthode approchée, capable de s’adapter à des situations dynamiques et incomplètes, et d’obtenir de bonnes solutions rapidement sans garantie d’optimalité."
   ]
  },
  {
   "cell_type": "markdown",
   "id": "0ee95471",
   "metadata": {},
   "source": [
    "# 🧭 Introduction\n",
    "Dans ce notebook, nous analysons et testons l'efficacité de notre algorithme de Recuit Simulé (Simulated Annealing) appliqué à l'optimisation des tournées de livraison.\n",
    "\n",
    "L'objectif est de :\n",
    "- Évaluer les performances de l'algorithme en termes de qualité des solutions et de temps d'exécution.\n",
    "- Étudier la complexité algorithmique et spatiale.\n",
    "- Comparer les résultats obtenus avec d'autres approches."
   ]
  },
  {
   "cell_type": "markdown",
   "id": "6a6fbe50",
   "metadata": {},
   "source": [
    "# ⚠️ Contraintes\n",
    "Et les contraintes sont : \n",
    "- Routes dynamiques ou perturbations : Simuler des changements dynamiques dans les coûts ou la disponibilité des routes pendant la résolution.\n",
    "- Utilisation de plusieurs véhicules: Il peut y avoir plusieurs sous-tournées plutôt qu'une seule grande.\n",
    "- Coût ou restriction de passage sur certaines arêtes : Certaines routes peuvent être plus coûteuses ou interdites (par exemple, travaux ou routes bloquées).\n",
    "- Ratio d'embouteillage moyen : Les données de Bison Futé sont utilisées pour calculer un ratio d'embouteillage moyen en fonction de l'heure.\n",
    "- Capacités du véhicule : Chaque véhicule a une capacité limite pour transporter des marchandises ou des passagers.\n"
   ]
  },
  {
   "cell_type": "markdown",
   "id": "2e03db0b",
   "metadata": {},
   "source": [
    "# 🧱 Structure du graphe\n",
    "Chaque ville est un nœud, chaque route une arête pondérée. Le graphe peut être enrichi par des données géographiques.\n",
    "```python\n",
    "from graph import Graph\n",
    "graph = Graph.load('./data/datasets/size_200/graph_size200_density0.01.pkl')\n",
    "graph.plot()\n",
    "```\n"
   ]
  },
  {
   "cell_type": "markdown",
   "id": "4778a74c",
   "metadata": {},
   "source": [
    "# 🔄 Pseudo-code de l'algorithme de Recuit Simulé\n",
    "FONCTION SimulatedAnnealing(graph, initial_temp, min_temp, cooling_rate, max_iterations, num_vehicles):\n",
    "Entrée :\n",
    "    - graph : graphe contenant les nœuds et arêtes pondérées\n",
    "    - initial_temp : température initiale\n",
    "    - min_temp : température minimale\n",
    "    - cooling_rate ∈ (0,1) : facteur de refroidissement\n",
    "    - max_iterations : nombre maximal d’itérations à température constante\n",
    "    - num_vehicles : nombre de véhicules disponibles\n",
    "\n",
    "Fonctions :\n",
    "    - initialize_solution(nodes, start_node, num_vehicles, graph) :\n",
    "        génère une solution initiale valide répartie sur plusieurs véhicules\n",
    "    - compute_total_cost(graph, solution) :\n",
    "        retourne le coût total de la solution (somme des distances pour tous les véhicules)\n",
    "    - generate_neighbor_multi_vehicle(graph, solution) :\n",
    "        génère une solution voisine (modification locale d’un ou plusieurs trajets)\n",
    "    - validate_solution(graph, solution) :\n",
    "        vérifie que la solution est valide (tous les sommets sont visités une fois, chemins valides)\n",
    "    - save_graph_png(path, show_labels, solution) :\n",
    "        enregistre une visualisation graphique de la solution actuelle\n",
    "\n",
    "Algorithme :\n",
    "\n",
    "Début :\n",
    "\n",
    "    temps_début ← temps_actuel                                     // début du chronomètre\n",
    "    T ← initial_temp                           // température initiale\n",
    "\n",
    "    nodes ← liste des nœuds du graphe\n",
    "    start_node ← nœud de départ aléatoire\n",
    "    retirer start_node de nodes\n",
    "\n",
    "    current_solution ← initialize_solution(nodes, start_node, num_vehicles, graph)\n",
    "    best_solution ← copie de current_solution\n",
    "    current_cost ← compute_total_cost(graph, current_solution)\n",
    "    best_cost ← current_cost\n",
    "\n",
    "    Afficher \"Initial solution cost\"\n",
    "\n",
    "    Pour chaque véhicule dans best_solution :\n",
    "        enregistrer le chemin dans le graphe\n",
    "\n",
    "    number_iterations ← 0\n",
    "    number_saves ← 0\n",
    "\n",
    "    Tant que T > min_temp :\n",
    "\n",
    "        Pour i de 1 à max_iterations :\n",
    "            neighbor ← generate_neighbor_multi_vehicle(graph, current_solution)\n",
    "            cost_neighbor ← compute_total_cost(graph, neighbor)\n",
    "            Δ ← cost_neighbor - current_cost\n",
    "\n",
    "            Si Δ < 0  :\n",
    "                //Amélioration → accepter directement\n",
    "                current_solution ← neighbor\n",
    "                current_cost ← cost_neighbor\n",
    "\n",
    "                Si cost_neighbor < best_cost :\n",
    "                    best_solution ← copie de neighbor\n",
    "                    best_cost ← cost_neighbor\n",
    "                    Pour chaque véhicule :\n",
    "                        enregistrer le chemin dans le graphe\n",
    "            Sinon :\n",
    "                //Moins bon → accepter avec probabilité exp(-Δ / T)\n",
    "                p ← exp(-Δ / T)\n",
    "                Si random(0,1) < p :\n",
    "                    current_solution ← neighbor\n",
    "                    current_cost ← cost_neighbor\n",
    "\n",
    "            Si number_iterations mod 500 = 0 :\n",
    "                enregistrer la solution actuelle en image\n",
    "                incrémenter number_saves\n",
    "\n",
    "            incrémenter number_iterations\n",
    "\n",
    "        Afficher T, current_cost, best_cost\n",
    "        T ← T × cooling_rate\n",
    "\n",
    "    Répéter 10 fois :\n",
    "        enregistrer best_solution pour figer dans l’animation finale\n",
    "\n",
    "    Si validate_solution(graph, best_solution) = Faux :\n",
    "        Lever une erreur : solution invalide\n",
    "    \n",
    "    temps_écoulé = temps_actuel - temps_début\n",
    "\n",
    "    Afficher \"Final solution cost\"\n",
    "    Afficher \"Elapsed time\"\n",
    "\n",
    "    Retourner best_solution, temps_écoulé\n",
    "![Flowchart](flowchart_simulated_annealing.svg)\n"
   ]
  },
  {
   "cell_type": "markdown",
   "id": "3eb1b9b2",
   "metadata": {},
   "source": [
    "# 🧮 Analyse de la complexité spatiale\n",
    "- Espace requis : O(n + m + k.n) où :\n",
    "  - n : nombre de villes\n",
    "  - m : nombre d'arêtes\n",
    "  - k : nombre de véhicules\n",
    "\n",
    "Dans notre cas, la classe personnalisée \"Graph\" stocke le graph en lui même grâce à Networkx. Ainsi qu'un dictionnaire qui prend pour clé l'id du véhicule et en valeur le chemin qu'il emprunte.\n",
    "\n",
    "Ainsi, le stockage du graph en lui même prend une taille de O(n + m) car il est stocké dans un dictionnaire avec pour clé les sommets et pour valeurs un deuxième dictionnaire, qui lui stock en clé un sommet auquel le premier sommet est lié (créant de ce fait une arrête) et en valeur un dernier dictionnaire qui stock les différents attributs de chaque arrêtes tel que le poids de ces dernières.\n",
    "\n",
    "Dans le pire des cas on a donc besoins de stocker n sommet, et m arrêtes.\n",
    "\n",
    "En ce qui concerne les véhicules et leur trajet, cela demande une taille de O(k.n) car au pire des cas chaque véhicule passera par les n sommets. \n",
    "Ce faisant nous aurions k trajets de n sommets\n",
    "\n",
    "Ci-dessous un exemple de stockage d'un graph en utilisant Networkx : "
   ]
  },
  {
   "cell_type": "code",
   "execution_count": 15,
   "id": "7739227d",
   "metadata": {},
   "outputs": [
    {
     "data": {
      "text/plain": [
       "{'A': {'B': {'weight': 5}, 'C': {'weight': 3}},\n",
       " 'B': {'A': {'weight': 5}, 'D': {'weight': 2}},\n",
       " 'C': {'A': {'weight': 3}},\n",
       " 'D': {'B': {'weight': 2}}}"
      ]
     },
     "execution_count": 15,
     "metadata": {},
     "output_type": "execute_result"
    }
   ],
   "source": [
    "{\n",
    "    'A': {                      #Clé = Sommet : Valeur = Dictionnaire des arrêtes\n",
    "        'B': {'weight': 5},     #Clé = Sommet à la fin de l'arrête : Valeur = Dictionnaire des attributs de l'arrêtes\n",
    "        'C': {'weight': 3}\n",
    "    },\n",
    "    'B': {\n",
    "        'A': {'weight': 5},\n",
    "        'D': {'weight': 2}\n",
    "    },\n",
    "    'C': {\n",
    "        'A': {'weight': 3}\n",
    "    },\n",
    "    'D': {\n",
    "        'B': {'weight': 2}\n",
    "    }\n",
    "}"
   ]
  },
  {
   "cell_type": "markdown",
   "id": "f004761f",
   "metadata": {},
   "source": [
    "Ci-dessous un graph montrant l'utilisation réel de mémoire pour des graphs de tailles et densitées variables :\n",
    "\n",
    "![Graph de la complexité spatiale](../data/test/spatial_complexity.png)\n",
    "\n",
    "On voit avec le graphique ci dessous que le nombre en sommet influe peux la taille prise par les graphiques créer pour des densitées faible, mais plus la densité augmente et plus ces derniers ont un impact. \n",
    "\n",
    "Étant donnée que la densité donne une proportion de liaison entre tous les sommets, il n'est donc pas surprenant de voir qu'avec une proportion de liaisons plus grande entre les sommets, le stockage du graph dans son ensemble prend beaucoup plus de place, surtout avec un nombre important de sommet.\n",
    "\n",
    "C'est ce qui explique pourquoi lorsque l'on est entre 100 et 300 sommets, les lignes sont plutôt proches, du fait que l'influence du pourcentage est moindre. \n",
    "Là où à partir des 400-500 sommets et ce de manière de plus en plus notable en augmentant le nombre des sommets, les lignes se sépare de plus en plus."
   ]
  },
  {
   "cell_type": "code",
   "execution_count": 7,
   "id": "aafe721f",
   "metadata": {},
   "outputs": [
    {
     "ename": "NameError",
     "evalue": "name '__file__' is not defined",
     "output_type": "error",
     "traceback": [
      "\u001b[31m---------------------------------------------------------------------------\u001b[39m",
      "\u001b[31mNameError\u001b[39m                                 Traceback (most recent call last)",
      "\u001b[36mCell\u001b[39m\u001b[36m \u001b[39m\u001b[32mIn[7]\u001b[39m\u001b[32m, line 10\u001b[39m\n\u001b[32m      7\u001b[39m \u001b[38;5;28;01mimport\u001b[39;00m\u001b[38;5;250m \u001b[39m\u001b[34;01mmatplotlib\u001b[39;00m\u001b[34;01m.\u001b[39;00m\u001b[34;01mpyplot\u001b[39;00m\u001b[38;5;250m \u001b[39m\u001b[38;5;28;01mas\u001b[39;00m\u001b[38;5;250m \u001b[39m\u001b[34;01mplt\u001b[39;00m\n\u001b[32m      8\u001b[39m \u001b[38;5;28;01mimport\u001b[39;00m\u001b[38;5;250m \u001b[39m\u001b[34;01mseaborn\u001b[39;00m\u001b[38;5;250m \u001b[39m\u001b[38;5;28;01mas\u001b[39;00m\u001b[38;5;250m \u001b[39m\u001b[34;01msns\u001b[39;00m\n\u001b[32m---> \u001b[39m\u001b[32m10\u001b[39m sys.path.append(\u001b[38;5;28mstr\u001b[39m(Path(\u001b[34;43m__file__\u001b[39;49m).resolve().parent.parent / \u001b[33m\"\u001b[39m\u001b[33msrc\u001b[39m\u001b[33m\"\u001b[39m))\n\u001b[32m     12\u001b[39m \u001b[38;5;28;01mfrom\u001b[39;00m\u001b[38;5;250m \u001b[39m\u001b[34;01msrc\u001b[39;00m\u001b[34;01m.\u001b[39;00m\u001b[34;01mgraph\u001b[39;00m\u001b[38;5;250m \u001b[39m\u001b[38;5;28;01mimport\u001b[39;00m Graph\n\u001b[32m     15\u001b[39m \u001b[38;5;28;01mdef\u001b[39;00m\u001b[38;5;250m \u001b[39m\u001b[34mtest_spatial_complexity\u001b[39m():\n",
      "\u001b[31mNameError\u001b[39m: name '__file__' is not defined"
     ]
    }
   ],
   "source": [
    "import sys\n",
    "from pathlib import Path\n",
    "import tracemalloc\n",
    "import pandas as pd\n",
    "import numpy as np\n",
    "from time import time\n",
    "import matplotlib.pyplot as plt\n",
    "import seaborn as sns\n",
    "\n",
    "sys.path.append(str(Path(__file__).resolve().parent.parent / \"src\"))\n",
    "\n",
    "from src.graph import Graph\n",
    "\n",
    "\n",
    "def test_spatial_complexity():\n",
    "    results = []\n",
    "    tailles = [i for i in range(100, 1000, 100)]\n",
    "    densites = [0.001, 0.01, 0.05, 0.1, 0.15, 0.20, 0.25, 0.3]\n",
    "\n",
    "    for n in tailles:\n",
    "        for d in densites:\n",
    "            g = Graph()\n",
    "            print(f\"Generating graph for n vertices={n}, density={d}\")\n",
    "\n",
    "            tracemalloc.start()\n",
    "            g.generate_geo_graph(n=n, density=d)\n",
    "            current, peak = tracemalloc.get_traced_memory()\n",
    "            tracemalloc.stop()\n",
    "\n",
    "            results.append({\n",
    "                'size': n,\n",
    "                'density': d,\n",
    "                'used_memory_MB': current / 1024**2,\n",
    "            })\n",
    "\n",
    "            print(\"Success\")\n",
    "\n",
    "    \n",
    "    results_df = pd.DataFrame(results)\n",
    "\n",
    "    # === Affichage console pour CI ===\n",
    "    print(\"\\n=== Résultats de la mesure de complexité spatiale ===\\n\")\n",
    "    print(results_df.to_string(index=False))\n",
    "\n",
    "    # Créer le dossier si nécessaire\n",
    "    output_dir = Path(__file__).resolve().parent.parent / \"data\" / \"test\"\n",
    "    output_dir.mkdir(parents=True, exist_ok=True)\n",
    "\n",
    "    # Créer le graphique\n",
    "    plt.figure(figsize=(10, 6))\n",
    "    sns.lineplot(\n",
    "        data=results_df,\n",
    "        x='size',\n",
    "        y='used_memory_MB',\n",
    "        hue='density',\n",
    "        marker='o',\n",
    "        palette='viridis'\n",
    "    )\n",
    "    plt.title(\"Memory used according to the graph size\")\n",
    "    plt.xlabel(\"Number of vertices (n)\")\n",
    "    plt.ylabel(\"Memory used (MB)\")\n",
    "    plt.grid(True)\n",
    "    plt.tight_layout()\n",
    "\n",
    "    # Enregistrer le fichier image\n",
    "    plot_path = output_dir / \"spatial_complexity.png\"\n",
    "    plt.savefig(plot_path)\n",
    "    print(f\"Plot saved to {plot_path}\")\n",
    "\n",
    "\n",
    "print(\"Starting space complexity test\")\n",
    "test_spatial_complexity()\n",
    "\n",
    "\n"
   ]
  },
  {
   "cell_type": "markdown",
   "id": "878fe40c",
   "metadata": {},
   "source": [
    "# ⚙️ Choix des paramètres\n",
    "Utiliser librairie octuna"
   ]
  },
  {
   "cell_type": "markdown",
   "id": "e3d81082",
   "metadata": {},
   "source": [
    "# 🧪 Test de performance\n",
    "```python\n",
    "# Exemple de test sur différents graphes\n",
    "from tests import run_experiments\n",
    "results = run_experiments()\n",
    "results.head()\n",
    "```\n"
   ]
  },
  {
   "cell_type": "markdown",
   "id": "62ae715d",
   "metadata": {},
   "source": [
    "# ⚖️ Comparaison avec d'autres algorithmes\n",
    "Comparaison avec une heuristique gloutonne sur les mêmes instances :\n",
    "```python\n",
    "from compare import compare_algorithms\n",
    "compare_algorithms(graph)\n",
    "```\n"
   ]
  },
  {
   "cell_type": "markdown",
   "id": "e15f531e",
   "metadata": {},
   "source": [
    "# 📽️ Rendu visuel avec GIF\n",
    "```python\n",
    "from visual import render_solution_gif\n",
    "render_solution_gif(best_solution, './animations/solution.gif')\n",
    "```\n",
    "![GIF](./animations/solution.gif)\n"
   ]
  },
  {
   "cell_type": "markdown",
   "id": "274fdb1e",
   "metadata": {},
   "source": [
    "# ✅ Conclusion\n",
    "- Le recuit simulé est efficace sur les graphes denses.\n",
    "- Robuste face aux perturbations.\n",
    "- Temps raisonnables et résultats compétitifs.\n",
    "- Possibilités d'amélioration avec des hybrides heuristiques.\n"
   ]
  }
 ],
 "metadata": {
  "kernelspec": {
   "display_name": ".venv",
   "language": "python",
   "name": "python3"
  },
  "language_info": {
   "codemirror_mode": {
    "name": "ipython",
    "version": 3
   },
   "file_extension": ".py",
   "mimetype": "text/x-python",
   "name": "python",
   "nbconvert_exporter": "python",
   "pygments_lexer": "ipython3",
   "version": "3.13.2"
  }
 },
 "nbformat": 4,
 "nbformat_minor": 5
}
